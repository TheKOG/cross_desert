{
 "cells": [
  {
   "cell_type": "code",
   "execution_count": 41,
   "metadata": {},
   "outputs": [],
   "source": [
    "class Node:\n",
    "    def __init__(self,type,id):\n",
    "        self.type=type\n",
    "        self.id=id\n",
    "nodes={}"
   ]
  },
  {
   "cell_type": "code",
   "execution_count": 42,
   "metadata": {},
   "outputs": [],
   "source": [
    "head={}\n",
    "edges={}\n",
    "tot=0\n",
    "class Edge:\n",
    "    def __init__(self,path=[]):\n",
    "        self.path=path\n",
    "        self.start=path[0]\n",
    "        self.end=path[-1]\n",
    "        self.len=len(path)-1\n",
    "        \n",
    "def Connect(path):\n",
    "    edge=Edge(path)\n",
    "    if(path[0] not in edges):\n",
    "        edges[path[0]]=[]\n",
    "    edges[path[0]].append(edge)"
   ]
  },
  {
   "cell_type": "code",
   "execution_count": 43,
   "metadata": {},
   "outputs": [],
   "source": [
    "import json\n",
    "\n",
    "problem=json.load(open(\"T1.json\"))\n",
    "# problem"
   ]
  },
  {
   "cell_type": "code",
   "execution_count": 44,
   "metadata": {},
   "outputs": [],
   "source": [
    "weather=problem[\"weather\"]\n",
    "weight=problem[\"weight\"]\n",
    "budget=problem[\"budget\"]\n",
    "income=problem[\"income\"]\n",
    "ddl=problem[\"ddl\"]\n",
    "\n",
    "water_price=problem[\"water_price\"]\n",
    "water_per_weight=problem[\"water_per_weight\"]\n",
    "water_comsumption=problem[\"water_comsumption\"]\n",
    "food_price=problem[\"food_price\"]\n",
    "food_per_weight=problem[\"food_per_weight\"]\n",
    "food_comsumption=problem[\"food_comsumption\"]\n",
    "\n",
    "weather+=[0,0,0,0,0,0]"
   ]
  },
  {
   "cell_type": "code",
   "execution_count": 45,
   "metadata": {},
   "outputs": [],
   "source": [
    "for edge in problem[\"path\"]:\n",
    "    Connect(edge)\n",
    "    \n",
    "for node in problem[\"node\"]:\n",
    "    nodes[node[\"id\"]]=Node(node[\"type\"],node[\"id\"])\n",
    "    if(node[\"type\"]==\"mine\"):\n",
    "        Connect([node[\"id\"],node[\"id\"]])"
   ]
  },
  {
   "cell_type": "code",
   "execution_count": 61,
   "metadata": {},
   "outputs": [],
   "source": [
    "def ShowTrack(tabel,f=None):\n",
    "    for i in range(len(tabel[\"node\"])):\n",
    "        print(\"Date:{} Node:{} water:{} food:{} money:{} weight:{}\".format(\n",
    "            i,tabel[\"node\"][i],\n",
    "            tabel[\"water\"][i],\n",
    "            tabel[\"food\"][i],\n",
    "            tabel[\"money\"][i],\n",
    "            tabel[\"water\"][i]*water_per_weight+tabel[\"food\"][i]*food_per_weight\n",
    "            ))\n",
    "        if f!=None:\n",
    "            f.write(\"{}\\t{}\\t{}\\t{}\\t{}\".format(\n",
    "                i,\n",
    "                tabel[\"node\"][i],\n",
    "                tabel[\"money\"][i],\n",
    "                tabel[\"water\"][i],\n",
    "                tabel[\"food\"][i]\n",
    "                )+\"\\n\")"
   ]
  },
  {
   "cell_type": "code",
   "execution_count": 47,
   "metadata": {},
   "outputs": [],
   "source": [
    "def Track(date,water_buy0,show1=False,show2=False):\n",
    "    tabel={\n",
    "        \"node\":[track[i] for i in range(date+1)],\n",
    "        \"water\":[0 for i in range(date+1)],\n",
    "        \"food\":[0 for i in range(date+1)],\n",
    "        \"money\":[incomes[i] for i in range(date+1)],\n",
    "    }\n",
    "    tabel[\"money\"][0]=budget\n",
    "    for i in range(1,date+1):\n",
    "        for ele in water_deal[i]:\n",
    "            tabel[\"water\"][i]-=ele[1]\n",
    "            if(ele[0]==0):\n",
    "                tabel[\"water\"][0]+=ele[1]\n",
    "                tabel[\"money\"][0]-=ele[1]*water_price\n",
    "            else:\n",
    "                tabel[\"water\"][ele[0]]+=ele[1]\n",
    "                tabel[\"money\"][ele[0]]-=ele[1]*water_price*2\n",
    "                    \n",
    "        for ele in food_deal[i]:\n",
    "            tabel[\"food\"][i]-=ele[1]\n",
    "            if(ele[0]==0):\n",
    "                tabel[\"food\"][0]+=ele[1]\n",
    "                tabel[\"money\"][0]-=ele[1]*food_price\n",
    "            else:\n",
    "                # print((i,ele))\n",
    "                tabel[\"food\"][ele[0]]+=ele[1]\n",
    "                tabel[\"money\"][ele[0]]-=ele[1]*food_price*2\n",
    "    if show1:\n",
    "        ShowTrack(tabel)\n",
    "    water,food,max_weight=0,0,[]\n",
    "    for i in range(date+1):\n",
    "        water+=tabel[\"water\"][i]\n",
    "        food+=tabel[\"food\"][i]\n",
    "        weight_=water*water_per_weight+food*food_per_weight\n",
    "        max_weight.append(max(weight_,max_weight[i-1] if i>0 else 0))\n",
    "        capacity=weight\n",
    "        for ele in water_deal[i]:\n",
    "            if(ele[0]==0 or ele[1]==0):\n",
    "                continue\n",
    "            influence_date=ele[0]-1\n",
    "            capacity=min(floor((weight-max_weight[influence_date])/water_per_weight),water_buy0)\n",
    "            if(ele[1]>=capacity):\n",
    "                tabel[\"water\"][0]+=capacity\n",
    "                tabel[\"money\"][0]-=capacity*water_price\n",
    "                tabel[\"water\"][ele[0]]-=capacity\n",
    "                tabel[\"money\"][ele[0]]+=capacity*water_price*2\n",
    "                capacity=0\n",
    "                break\n",
    "            else:\n",
    "                tabel[\"water\"][0]+=ele[1]\n",
    "                tabel[\"money\"][0]-=ele[1]*water_price\n",
    "                tabel[\"water\"][ele[0]]-=ele[1]\n",
    "                tabel[\"money\"][ele[0]]+=ele[1]*water_price*2\n",
    "                capacity-=ele[1]\n",
    "                max_weight[influence_date]+=ele[1]*water_per_weight\n",
    "                max_weight[i]=max(max_weight[i],max_weight[influence_date])\n",
    "                \n",
    "        if capacity==0:\n",
    "            break\n",
    "            \n",
    "    if show2:\n",
    "        ShowTrack(tabel)\n",
    "        \n",
    "    for i in range(1,date+1):\n",
    "        tabel[\"money\"][i]+=tabel[\"money\"][i-1]\n",
    "        tabel[\"water\"][i]+=tabel[\"water\"][i-1]\n",
    "        tabel[\"food\"][i]+=tabel[\"food\"][i-1]\n",
    "        if(tabel[\"water\"][i]*water_per_weight+tabel[\"food\"][i]*food_per_weight>weight):\n",
    "            tabel[\"money\"][i]=-114514\n",
    "        \n",
    "    return tabel"
   ]
  },
  {
   "cell_type": "code",
   "execution_count": 48,
   "metadata": {},
   "outputs": [],
   "source": [
    "from math import floor\n",
    "water_deal={i:[] for i in range(ddl+3)}\n",
    "food_deal={i:[] for i in range(ddl+3)}\n",
    "track=[0 for i in range(ddl+3)]\n",
    "incomes=[0 for i in range(ddl+3)]\n",
    "\n",
    "def Move(node,date,w0,w1,b0,b1,uw,m,k,last_load=0):\n",
    "        track[date+1]=node\n",
    "        # print(node,end=\" \")\n",
    "        w0=min(w0,w1)\n",
    "        \n",
    "        food_com=food_comsumption[weather[date+1]]*k #由于食物价格更高,优先在起点购买更多食物\n",
    "        food_buy0=min(food_com,floor(w0/food_per_weight))\n",
    "        food_buy0=min(food_buy0,floor(b0/food_price))\n",
    "        food_buy1=food_com-food_buy0\n",
    "        \n",
    "        w0-=food_buy0*food_per_weight\n",
    "        w1-=food_buy0*food_per_weight+food_buy1*food_per_weight\n",
    "        b0-=food_buy0*food_price\n",
    "        b1-=food_buy0*food_price+food_buy1*food_price*2\n",
    "        m-=food_buy0*food_price+food_buy1*food_price*2\n",
    "        food_deal[date+1]=[[0,food_buy0],[last_load,food_buy1]]\n",
    "        \n",
    "        water_com=water_comsumption[weather[date+1]]*k\n",
    "        if last_load!=0: #由于水价格更低,优先在村庄购买更多水\n",
    "            water_buy1=min(water_com,floor(b1/water_price)-water_com)#(S-x)*p+x*2p<=B ===> x<=B/p-S\n",
    "            water_buy0=water_com-water_buy1\n",
    "        else:\n",
    "            water_buy0=water_com\n",
    "            water_buy1=0\n",
    "            \n",
    "        uw+=water_buy1\n",
    "        \n",
    "        w0-=water_buy0*water_per_weight\n",
    "        w1-=water_buy0*water_per_weight+water_buy1*water_per_weight\n",
    "        b0-=water_buy0*water_price\n",
    "        b1-=water_buy0*water_price+water_buy1*water_price*2\n",
    "        m-=water_buy0*water_price+water_buy1*water_price*2\n",
    "        water_deal[date+1]=[[0,water_buy0],[last_load,water_buy1]]\n",
    "        \n",
    "        incomes[date+1]=income if k==3 else 0\n",
    "        return w0,w1,b0,b1,uw,m\n",
    "\n",
    "def Forward(edge,date,left_weight0,left_weight1,left_budget0,left_budget1,used_water_1,money,last_load=0):\n",
    "    d,w0,w1,b0,b1,uw,m=date,left_weight0,left_weight1,left_budget0,left_budget1,used_water_1,money\n",
    "    # print(d)\n",
    "    edge=Edge(edge)\n",
    "    track[date]=edge.start\n",
    "    for i in range(edge.len):#枚举路径上的每一步\n",
    "        if(d>ddl):\n",
    "            break\n",
    "        \n",
    "        if edge.path[i+1]<0:#在矿场休息\n",
    "            w0,w1,b0,b1,uw,m=Move(-edge.path[i+1],d,w0,w1,b0,b1,uw,m,1,last_load)\n",
    "            d+=1\n",
    "            continue\n",
    "        \n",
    "        if abs(edge.path[i])==edge.path[i+1]:#挖矿\n",
    "            w0,w1,b0,b1,uw,m=Move(edge.path[i+1],d,w0,w1,b0,b1,uw,m,3,last_load)\n",
    "            d+=1\n",
    "            m+=income\n",
    "            continue\n",
    "        \n",
    "        \n",
    "        while(edge.path[i]!=edge.path[i+1] and d+1<=ddl and weather[d+1]==2):#沙尘暴被迫停留\n",
    "            w0,w1,b0,b1,uw,m=Move(edge.path[i],d,w0,w1,b0,b1,uw,m,1,last_load)\n",
    "            d+=1\n",
    "            if(edge.path[i] in nodes and nodes[edge.path[i]].type==\"village\"):#村庄补充物资\n",
    "                w1=weight\n",
    "                b1=m\n",
    "                last_load=d\n",
    "            # print((d,w0,w1,b0,b1,uw,m))\n",
    "            if(w0<0 or w1<0 or b0<0 or b1<0):\n",
    "                d=ddl+1\n",
    "            # print(\"Sand Storm\")\n",
    "            # print(d)\n",
    "        w0,w1,b0,b1,uw,m=Move(edge.path[i+1],d,w0,w1,b0,b1,uw,m,2,last_load)#前进\n",
    "        d+=1\n",
    "        if(edge.path[i] in nodes and nodes[edge.path[i]].type==\"village\"):#村庄补充物资\n",
    "            w1=weight\n",
    "            b1=m\n",
    "            last_load=d\n",
    "        # print((d,w0,w1,b0,b1,uw,m))\n",
    "        if(w0<0 or w1<0 or b0<0 or b1<0):\n",
    "            d=ddl+1\n",
    "        # print(d)\n",
    "    return d,w0,w1,b0,b1,uw,m,last_load"
   ]
  },
  {
   "cell_type": "code",
   "execution_count": 49,
   "metadata": {},
   "outputs": [],
   "source": [
    "ans=0\n",
    "tabel={}\n",
    "def Dfs(end,path):\n",
    "    if len(path)>ddl:\n",
    "        # print(path)\n",
    "        return 0\n",
    "    d,w0,w1,b0,b1,uw,m,lst=0,weight,weight,budget,budget,0,budget,0\n",
    "    d,w0,w1,b0,b1,uw,m,lst=Forward(path,d,w0,w1,b0,b1,uw,m,lst)\n",
    "    if(d>ddl):\n",
    "        return 0\n",
    "    # if path==[1,25,24,23,22,9,15,14,12,12,12,12,12,12,12]:\n",
    "    #     print(\"fuck\")\n",
    "    #     print(d)\n",
    "    if path[-1]==end:\n",
    "        # print(path)\n",
    "        global tabel\n",
    "        global ans\n",
    "        tabel_=Track(d,uw)\n",
    "        money=tabel_[\"money\"][d]\n",
    "        if(money>ans):\n",
    "            ans=money\n",
    "            tabel=tabel_\n",
    "            print((ans,d,uw))\n",
    "        return money\n",
    "        \n",
    "    profit=0\n",
    "    for edge in edges[abs(path[-1])]:\n",
    "        if(edge.len==1 and edge.end==edge.start and weather[d+1]==2):\n",
    "            profit=max(profit,Dfs(end,path+[-abs(path[-1])]))\n",
    "        profit=max(profit,Dfs(end,path+edge.path[1:]))\n",
    "        \n",
    "    return profit\n",
    "            \n",
    "    "
   ]
  },
  {
   "cell_type": "code",
   "execution_count": 50,
   "metadata": {},
   "outputs": [],
   "source": [
    "for node in nodes:\n",
    "    if(nodes[node].type==\"start\"):\n",
    "        st=node\n",
    "    if(nodes[node].type==\"end\"):\n",
    "        ed=node"
   ]
  },
  {
   "cell_type": "code",
   "execution_count": 51,
   "metadata": {},
   "outputs": [
    {
     "name": "stdout",
     "output_type": "stream",
     "text": [
      "(9410, 3, 0)\n",
      "(9670, 30, 343)\n",
      "(10070, 30, 363)\n",
      "(10575, 24, 263)\n",
      "10575\n"
     ]
    }
   ],
   "source": [
    "ans=Dfs(end=ed,path=[st])\n",
    "print(ans)"
   ]
  },
  {
   "cell_type": "code",
   "execution_count": 62,
   "metadata": {},
   "outputs": [
    {
     "name": "stdout",
     "output_type": "stream",
     "text": [
      "Date:0 Node:1 water:167 food:349 money:5675 weight:1199\n",
      "Date:1 Node:25 water:151 food:337 money:5675 weight:1127\n",
      "Date:2 Node:24 water:135 food:325 money:5675 weight:1055\n",
      "Date:3 Node:23 water:125 food:311 money:5675 weight:997\n",
      "Date:4 Node:23 water:115 food:301 money:5675 weight:947\n",
      "Date:5 Node:22 water:105 food:287 money:5675 weight:889\n",
      "Date:6 Node:9 water:89 food:275 money:5675 weight:817\n",
      "Date:7 Node:9 water:79 food:265 money:5675 weight:767\n",
      "Date:8 Node:15 water:69 food:251 money:5675 weight:709\n",
      "Date:9 Node:14 water:237 food:239 money:3835 weight:1189\n",
      "Date:10 Node:12 water:221 food:227 money:3835 weight:1117\n",
      "Date:11 Node:12 water:211 food:217 money:3835 weight:1067\n",
      "Date:12 Node:12 water:187 food:199 money:4835 weight:959\n",
      "Date:13 Node:12 water:172 food:178 money:5835 weight:872\n",
      "Date:14 Node:12 water:148 food:160 money:6835 weight:764\n",
      "Date:15 Node:12 water:124 food:142 money:7835 weight:656\n",
      "Date:16 Node:12 water:100 food:124 money:8835 weight:548\n",
      "Date:17 Node:12 water:90 food:114 money:8835 weight:498\n",
      "Date:18 Node:12 water:60 food:84 money:9835 weight:348\n",
      "Date:19 Node:12 water:36 food:66 money:10835 weight:240\n",
      "Date:20 Node:14 water:20 food:54 money:10835 weight:168\n",
      "Date:21 Node:15 water:10 food:40 money:10835 weight:110\n",
      "Date:22 Node:9 water:26 food:26 money:10575 weight:130\n",
      "Date:23 Node:21 water:10 food:14 money:10575 weight:58\n",
      "Date:24 Node:27 water:0 food:0 money:10575 weight:0\n"
     ]
    }
   ],
   "source": [
    "with open(\"result.txt\",\"w\") as f:\n",
    "    ShowTrack(tabel=tabel,f=f)"
   ]
  },
  {
   "cell_type": "code",
   "execution_count": 55,
   "metadata": {},
   "outputs": [
    {
     "data": {
      "text/plain": [
       "(8, 710, 710, 8530, 8530, 0, 8530, 0)"
      ]
     },
     "execution_count": 55,
     "metadata": {},
     "output_type": "execute_result"
    }
   ],
   "source": [
    "d,w0,w1,b0,b1,uw,m,lst=0,weight,weight,budget,budget,0,budget,0\n",
    "d,w0,w1,b0,b1,uw,m,lst=Forward([1,25,24,23,22,9,15],d,w0,w1,b0,b1,uw,m,lst)\n",
    "d,w0,w1,b0,b1,uw,m,lst"
   ]
  },
  {
   "cell_type": "code",
   "execution_count": 56,
   "metadata": {},
   "outputs": [
    {
     "data": {
      "text/plain": [
       "(10, 614, 1128, 8210, 8050, 16, 8050, 9)"
      ]
     },
     "execution_count": 56,
     "metadata": {},
     "output_type": "execute_result"
    }
   ],
   "source": [
    "d,w0,w1,b0,b1,uw,m,lst=Forward([15,14,12],d,w0,w1,b0,b1,uw,m,lst)\n",
    "d,w0,w1,b0,b1,uw,m,lst"
   ]
  },
  {
   "cell_type": "code",
   "execution_count": 57,
   "metadata": {},
   "outputs": [
    {
     "data": {
      "text/plain": [
       "(19, 292, 251, 6600, 4590, 201, 11590, 9)"
      ]
     },
     "execution_count": 57,
     "metadata": {},
     "output_type": "execute_result"
    }
   ],
   "source": [
    "for i in range(6):\n",
    "    w0,w1,b0,b1,uw,m=Move(12,d,w0,w1,b0,b1,uw,m,3,lst)\n",
    "    d+=1\n",
    "    m+=income\n",
    "for i in range(2):\n",
    "    w0,w1,b0,b1,uw,m=Move(12,d,w0,w1,b0,b1,uw,m,1,lst)\n",
    "    d+=1\n",
    "for i in range(1):\n",
    "    w0,w1,b0,b1,uw,m=Move(12,d,w0,w1,b0,b1,uw,m,3,lst)\n",
    "    d+=1\n",
    "    m+=income\n",
    "d,w0,w1,b0,b1,uw,m,lst"
   ]
  },
  {
   "cell_type": "code",
   "execution_count": 58,
   "metadata": {},
   "outputs": [
    {
     "data": {
      "text/plain": [
       "(21, 151, 121, 6340, 4070, 227, 11070, 9)"
      ]
     },
     "execution_count": 58,
     "metadata": {},
     "output_type": "execute_result"
    }
   ],
   "source": [
    "d,w0,w1,b0,b1,uw,m,lst=Forward([12,14,15],d,w0,w1,b0,b1,uw,m,lst)\n",
    "d,w0,w1,b0,b1,uw,m,lst"
   ]
  },
  {
   "cell_type": "code",
   "execution_count": 59,
   "metadata": {},
   "outputs": [
    {
     "data": {
      "text/plain": [
       "(24, 41, 1070, 5940, 10310, 263, 10310, 22)"
      ]
     },
     "execution_count": 59,
     "metadata": {},
     "output_type": "execute_result"
    }
   ],
   "source": [
    "d,w0,w1,b0,b1,uw,m,lst=Forward([15,9,21,27],d,w0,w1,b0,b1,uw,m,lst)\n",
    "d,w0,w1,b0,b1,uw,m,lst"
   ]
  },
  {
   "cell_type": "code",
   "execution_count": 60,
   "metadata": {},
   "outputs": [
    {
     "name": "stdout",
     "output_type": "stream",
     "text": [
      "Date:0 Node:1 water:167 food:349 money:5675 weight:1199\n",
      "Date:1 Node:25 water:151 food:337 money:5675 weight:1127\n",
      "Date:2 Node:24 water:135 food:325 money:5675 weight:1055\n",
      "Date:3 Node:23 water:125 food:311 money:5675 weight:997\n",
      "Date:4 Node:23 water:115 food:301 money:5675 weight:947\n",
      "Date:5 Node:22 water:105 food:287 money:5675 weight:889\n",
      "Date:6 Node:9 water:89 food:275 money:5675 weight:817\n",
      "Date:7 Node:9 water:79 food:265 money:5675 weight:767\n",
      "Date:8 Node:15 water:69 food:251 money:5675 weight:709\n",
      "Date:9 Node:14 water:237 food:239 money:3835 weight:1189\n",
      "Date:10 Node:12 water:221 food:227 money:3835 weight:1117\n",
      "Date:11 Node:12 water:191 food:197 money:4835 weight:967\n",
      "Date:12 Node:12 water:167 food:179 money:5835 weight:859\n",
      "Date:13 Node:12 water:152 food:158 money:6835 weight:772\n",
      "Date:14 Node:12 water:128 food:140 money:7835 weight:664\n",
      "Date:15 Node:12 water:104 food:122 money:8835 weight:556\n",
      "Date:16 Node:12 water:80 food:104 money:9835 weight:448\n",
      "Date:17 Node:12 water:70 food:94 money:9835 weight:398\n",
      "Date:18 Node:12 water:60 food:84 money:9835 weight:348\n",
      "Date:19 Node:12 water:36 food:66 money:10835 weight:240\n",
      "Date:20 Node:14 water:20 food:54 money:10835 weight:168\n",
      "Date:21 Node:15 water:10 food:40 money:10835 weight:110\n",
      "Date:22 Node:9 water:26 food:26 money:10575 weight:130\n",
      "Date:23 Node:21 water:10 food:14 money:10575 weight:58\n",
      "Date:24 Node:27 water:0 food:0 money:10575 weight:0\n"
     ]
    }
   ],
   "source": [
    "tabel_=Track(d,uw)\n",
    "ShowTrack(tabel_)"
   ]
  },
  {
   "cell_type": "code",
   "execution_count": null,
   "metadata": {},
   "outputs": [
    {
     "name": "stdout",
     "output_type": "stream",
     "text": [
      "23\n"
     ]
    },
    {
     "data": {
      "text/plain": [
       "(24, 41, 1070, 5940, 10310, 263, 10310, 22)"
      ]
     },
     "execution_count": 19,
     "metadata": {},
     "output_type": "execute_result"
    }
   ],
   "source": [
    "pth=[1,25,24,23,22,9,15,14,12,12,12,12,12,12,12,-12,-12,12,14,15,9,21,27]\n",
    "print(len(pth))\n",
    "d,w0,w1,b0,b1,uw,m,lst=0,weight,weight,budget,budget,0,budget,0\n",
    "d,w0,w1,b0,b1,uw,m,lst=Forward(pth,d,w0,w1,b0,b1,uw,m,lst)\n",
    "d,w0,w1,b0,b1,uw,m,lst"
   ]
  },
  {
   "cell_type": "code",
   "execution_count": null,
   "metadata": {},
   "outputs": [
    {
     "name": "stdout",
     "output_type": "stream",
     "text": [
      "Date:0 Node:1 water:167 food:349 money:5675 weight:1199\n",
      "Date:1 Node:25 water:151 food:337 money:5675 weight:1127\n",
      "Date:2 Node:24 water:135 food:325 money:5675 weight:1055\n",
      "Date:3 Node:23 water:125 food:311 money:5675 weight:997\n",
      "Date:4 Node:23 water:115 food:301 money:5675 weight:947\n",
      "Date:5 Node:22 water:105 food:287 money:5675 weight:889\n",
      "Date:6 Node:9 water:89 food:275 money:5675 weight:817\n",
      "Date:7 Node:9 water:79 food:265 money:5675 weight:767\n",
      "Date:8 Node:15 water:69 food:251 money:5675 weight:709\n",
      "Date:9 Node:14 water:237 food:239 money:3835 weight:1189\n",
      "Date:10 Node:12 water:221 food:227 money:3835 weight:1117\n",
      "Date:11 Node:12 water:191 food:197 money:4835 weight:967\n",
      "Date:12 Node:12 water:167 food:179 money:5835 weight:859\n",
      "Date:13 Node:12 water:152 food:158 money:6835 weight:772\n",
      "Date:14 Node:12 water:128 food:140 money:7835 weight:664\n",
      "Date:15 Node:12 water:104 food:122 money:8835 weight:556\n",
      "Date:16 Node:12 water:80 food:104 money:9835 weight:448\n",
      "Date:17 Node:12 water:70 food:94 money:9835 weight:398\n",
      "Date:18 Node:12 water:60 food:84 money:9835 weight:348\n",
      "Date:19 Node:12 water:36 food:66 money:10835 weight:240\n",
      "Date:20 Node:14 water:20 food:54 money:10835 weight:168\n",
      "Date:21 Node:15 water:10 food:40 money:10835 weight:110\n",
      "Date:22 Node:9 water:26 food:26 money:10575 weight:130\n",
      "Date:23 Node:21 water:10 food:14 money:10575 weight:58\n",
      "Date:24 Node:27 water:0 food:0 money:10575 weight:0\n"
     ]
    }
   ],
   "source": [
    "tabel_=Track(d,uw)\n",
    "ShowTrack(tabel_)"
   ]
  }
 ],
 "metadata": {
  "kernelspec": {
   "display_name": "Python 3",
   "language": "python",
   "name": "python3"
  },
  "language_info": {
   "codemirror_mode": {
    "name": "ipython",
    "version": 3
   },
   "file_extension": ".py",
   "mimetype": "text/x-python",
   "name": "python",
   "nbconvert_exporter": "python",
   "pygments_lexer": "ipython3",
   "version": "3.8.7rc1"
  },
  "orig_nbformat": 4
 },
 "nbformat": 4,
 "nbformat_minor": 2
}
